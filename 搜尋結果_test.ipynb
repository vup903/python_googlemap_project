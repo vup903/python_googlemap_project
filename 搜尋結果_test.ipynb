{
 "cells": [
  {
   "cell_type": "code",
   "execution_count": 3,
   "id": "f1fbf815",
   "metadata": {},
   "outputs": [
    {
     "name": "stdout",
     "output_type": "stream",
     "text": [
      "Requirement already satisfied: googlemaps in c:\\users\\user\\anaconda3\\envs\\mds\\lib\\site-packages (4.10.0)\n",
      "Requirement already satisfied: requests<3.0,>=2.20.0 in c:\\users\\user\\anaconda3\\envs\\mds\\lib\\site-packages (from googlemaps) (2.26.0)\n",
      "Requirement already satisfied: urllib3<1.27,>=1.21.1 in c:\\users\\user\\anaconda3\\envs\\mds\\lib\\site-packages (from requests<3.0,>=2.20.0->googlemaps) (1.26.7)\n",
      "Requirement already satisfied: certifi>=2017.4.17 in c:\\users\\user\\anaconda3\\envs\\mds\\lib\\site-packages (from requests<3.0,>=2.20.0->googlemaps) (2021.10.8)\n",
      "Requirement already satisfied: charset-normalizer~=2.0.0 in c:\\users\\user\\anaconda3\\envs\\mds\\lib\\site-packages (from requests<3.0,>=2.20.0->googlemaps) (2.0.4)\n",
      "Requirement already satisfied: idna<4,>=2.5 in c:\\users\\user\\anaconda3\\envs\\mds\\lib\\site-packages (from requests<3.0,>=2.20.0->googlemaps) (3.2)\n"
     ]
    }
   ],
   "source": [
    "! pip install -U googlemaps\n",
    "import googlemaps\n",
    "import pandas as pd\n",
    "import numpy as np\n",
    "import requests"
   ]
  },
  {
   "cell_type": "code",
   "execution_count": 4,
   "id": "3d0962f4",
   "metadata": {},
   "outputs": [],
   "source": [
    "API_KEY = 'insert your google place API'"
   ]
  },
  {
   "cell_type": "code",
   "execution_count": 5,
   "id": "bb74ef94",
   "metadata": {},
   "outputs": [],
   "source": [
    "gmaps = googlemaps.Client(key = API_KEY)"
   ]
  },
  {
   "cell_type": "code",
   "execution_count": 6,
   "id": "b0c94aca",
   "metadata": {},
   "outputs": [],
   "source": [
    "def get_location_name(place_id, api_key):\n",
    "    url = f\"https://maps.googleapis.com/maps/api/place/details/json?place_id={place_id}&key={api_key}\"\n",
    "    response = requests.get(url)\n",
    "    data = response.json()\n",
    "\n",
    "    if data[\"status\"] == \"OK\":\n",
    "        result = data.get(\"result\")\n",
    "        if result is not None:\n",
    "            location_name = result.get(\"name\")\n",
    "            if location_name is not None:\n",
    "                return location_name\n",
    "    else:\n",
    "        return None"
   ]
  },
  {
   "cell_type": "code",
   "execution_count": 7,
   "id": "04b1decd",
   "metadata": {},
   "outputs": [],
   "source": [
    "def get_reviews(place_id, api_key):\n",
    "    url = f\"https://maps.googleapis.com/maps/api/place/details/json?place_id={place_id}&key={api_key}\"\n",
    "    response = requests.get(url)\n",
    "    data = response.json()\n",
    "\n",
    "    if data[\"status\"] == \"OK\":\n",
    "        result = data.get(\"result\")\n",
    "        if result is not None:\n",
    "            review_count = result.get(\"user_ratings_total\")\n",
    "            if review_count is not None:\n",
    "                return review_count\n",
    "    else:\n",
    "        return 0"
   ]
  },
  {
   "cell_type": "code",
   "execution_count": 8,
   "id": "6cb47e68",
   "metadata": {},
   "outputs": [],
   "source": [
    "def get_price_level(place_id, api_key):\n",
    "    url = f\"https://maps.googleapis.com/maps/api/place/details/json?place_id={place_id}&key={api_key}\"\n",
    "    response = requests.get(url)\n",
    "    data = response.json()\n",
    "\n",
    "    if data[\"status\"] == \"OK\":\n",
    "        result = data.get(\"result\")\n",
    "        if result is not None:\n",
    "            price_level = result.get(\"price_level\")\n",
    "            if price_level is not None:\n",
    "                return price_level\n",
    "    else:\n",
    "        price_level = np.nan\n",
    "        return price_level"
   ]
  },
  {
   "cell_type": "code",
   "execution_count": 9,
   "id": "5fa40dce",
   "metadata": {},
   "outputs": [],
   "source": [
    "def get_rating(place_id, api_key):\n",
    "    url = f\"https://maps.googleapis.com/maps/api/place/details/json?place_id={place_id}&key={api_key}\"\n",
    "    response = requests.get(url)\n",
    "    data = response.json()\n",
    "\n",
    "    if data[\"status\"] == \"OK\":\n",
    "        result = data.get(\"result\")\n",
    "        if result is not None:\n",
    "            rating = result.get(\"rating\")\n",
    "            if rating is not None:\n",
    "                return rating\n",
    "    else:\n",
    "        return 0"
   ]
  },
  {
   "cell_type": "code",
   "execution_count": 10,
   "id": "ed8947ce",
   "metadata": {},
   "outputs": [],
   "source": [
    "def get_open_status(place_id, api_key):\n",
    "    url = f\"https://maps.googleapis.com/maps/api/place/details/json?place_id={place_id}&key={api_key}\"\n",
    "    response = requests.get(url)\n",
    "    data = response.json()\n",
    "    try:\n",
    "        if data[\"status\"] == \"OK\":\n",
    "            result = data.get(\"result\")\n",
    "            if result is not None:\n",
    "                opening_hours = result.get(\"opening_hours\")\n",
    "                opening_status = opening_hours['open_now']\n",
    "                if opening_status is not None:\n",
    "                    return opening_status\n",
    "        else:\n",
    "            opening_status = np.nan\n",
    "            return opening_status\n",
    "    except:\n",
    "        opening_status = np.nan\n",
    "        return opening_status"
   ]
  },
  {
   "cell_type": "code",
   "execution_count": 13,
   "id": "5045002b",
   "metadata": {},
   "outputs": [
    {
     "name": "stdout",
     "output_type": "stream",
     "text": [
      "Price Level\n",
      "Reviews\n",
      "Rating\n",
      "[{'Name': '永和豆漿 - YongHe Soy Milk - HePing', 'opening_status': 'open now', 'Reviews': 153, 'Rating': 3.4, 'Price Level': 1.0, 'Five-star Review': \"Great place (and good value) for a evening or midnight snack, breakfast, or anytime in-between!  The selection is not vast, but they are awesome for what they do serve.  You can dine-in or have take-out.  But be aware, they only have about 4 (four) tables.  (They have since the beginning of 2020 partnered with the local delivery services and have paired down the menu somewhat... no more sandwiches, oil-sticks or crispy sesame buns )\\n\\nI love eating the green onion pancakes with an egg or two.  They have oil-sticks (you-tiao) with the sesame buns in the morning.\\n\\nThey also specialize in soy milk (all types, salty, sweet, sugarless, cold, hot, sweet, salty, etc).  Other drinks include rice milk, milk tea, black tea, and an interesting soy-rice milk combo.\\n\\nFor a midnight snack, I've ordered their egg crepes, green onion pancakes, chicken nuggets, steamed dumplings (xiao-long-bao), and all kinds of eggs (over easy, scrambled, etc).  They used to make all kinds of sandwiches before, but stopped recently.  They can customize your pancakes, crepes, rice clubs, or pancake wraps with all kinds of ingredients, such as pork sung (floss), corn, tuna, bacon, (American?) cheese, green onions, etc.\\n\\nSometimes, you may have to wipe down your own tables if they're not clean enough for you.  But that's to be expected with a lot of these mom & pop places that are really inexpensive.\\n\\nBe aware, its a cash-only place; and actual hours are different from what's posted on the wall.  And if it's really important, call ahead to ensure that they're open before going in.  Like most small businesses, they're always open (as posted) unless they have some personal business to attend to.\\n\\nHours may be different from what is posted on the wall for some unknown reason.\\n\\n8pm until 11am (the next day) - 7-days a week\\nOnce in a while, they may be closed for personal business.\\n\\n2020-02-29 note:  Recently, it's kind of interesting to see this place crawling with delivery riders coming and going for the delivery orders all night long!\"}, {'Name': 'Hong Ya Hamburger', 'opening_status': 'open now', 'Reviews': 139, 'Rating': 4.4, 'Price Level': 1.0, 'Five-star Review': 'My favorite Taiwanese breakfast store!\\nThe attitude of the owners are very warm, the food is delicious with lots of choices.\\nThe only flaw is that they don’t open during weekends :( (have to go to some lousy breakfast shops nearby instead).\\n\\nHope they will consider to open during weekend!'}, {'Name': '男子漢早餐店（師大泰順店）Realhomie Breakfast', 'opening_status': 'open now', 'Reviews': 313, 'Rating': 4.1, 'Price Level': nan, 'Five-star Review': 'For breakfast option it is slightly too expensive.\\nBut unlike 99% of breafast shops in Taiwan, interior is very neat and comfortable. Also want give credit to the staff.'}, {'Name': 'Chen Ji Yingyang Breakfast Restaurant', 'opening_status': 'open now', 'Reviews': 34, 'Rating': 4.1, 'Price Level': nan, 'Five-star Review': 'very friendly staff, food was truly 又便宜又好吃 (cheap and good). service was fast and everything was freshly made. Absolutely recommend'}]\n"
     ]
    }
   ],
   "source": [
    "# sort result by number of review\n",
    "review_lst = []\n",
    "#id_lst = ['王子凌的output']\n",
    "# 我自己拿來試的 place id\n",
    "id_lst = ['ChIJObxVCIapQjQRJtRS36iiCpw', 'ChIJj_hw4oapQjQRqzf5Vytr4-Q', 'ChIJT3Jp6dSpQjQRih35iMUOttc',\n",
    "          'ChIJD12ae_KrQjQRLlnZx0yg8mg'] #應該放王子凌的output\n",
    "#for p in place_lst:\n",
    "    #places_result = gmaps.places(p)\n",
    "    #place_id = places_result['results'][0]['place_id']\n",
    "for ID in id_lst:\n",
    "    #place_id = ID\n",
    "    location_name = get_location_name(ID, API_KEY)\n",
    "    review_count = get_reviews(ID, API_KEY)\n",
    "    price_level = get_price_level(ID, API_KEY)\n",
    "    rating = get_rating(ID, API_KEY)\n",
    "    place = gmaps.place(place_id = ID)\n",
    "    five_star = False\n",
    "    for r in place['result']['reviews']:\n",
    "        if five_star == False:\n",
    "            if r['rating'] == 5:\n",
    "                try:\n",
    "                    five_star_review = r['text']\n",
    "                    five_star = True\n",
    "                except:\n",
    "                    pass\n",
    "        \n",
    "        if five_star == True:\n",
    "            break\n",
    "    if five_star == False:\n",
    "        five_star_review = 'No Five-star Comments'\n",
    "    if price_level != None:\n",
    "        price_level = float(price_level)\n",
    "    else:\n",
    "        price_level = np.nan\n",
    "    opening_status = get_open_status(ID, API_KEY)\n",
    "    if opening_status == False:\n",
    "        opening_status = 'closed'\n",
    "    elif opening_status == True:\n",
    "        opening_status = 'open now'\n",
    "    review_dict = {'Name': location_name,\n",
    "                   'opening_status': opening_status,\n",
    "                   'Reviews': int(review_count),\n",
    "                   'Rating': float(rating),\n",
    "                   'Price Level': price_level,\n",
    "                   'Five-star Review': five_star_review,\n",
    "                   'Place ID': ID\n",
    "                      }\n",
    "    # 一個dictionary裡面會一個地點的資訊包含：名字、現在是否營業、評論數、評分、價格、一則五星評論、ID\n",
    "    #(最後可以不要顯示Place ID，ID只是讓地圖更好的呈現)\n",
    "    #所有的地點資訊(多個dict)會組成一個list\n",
    "    review_lst.append(review_dict)\n",
    "# function to order the list in 6 ways\n",
    "def order(first, second, third):\n",
    "    return sorted(review_lst, key = lambda x: (np.isnan(x[first]),\n",
    "                                         -x[first] if not np.isnan(x[first]) else np.inf,\n",
    "                                         np.isnan(x[second]),\n",
    "                                         -x[second] if not np.isnan(x[second]) else np.inf,\n",
    "                                         np.isnan(x[third]),\n",
    "                                         -x[third] if not np.isnan(x[third]) else np.inf))\n",
    "\n",
    "def output_by_choice(first, second, third):\n",
    "    for r in review_lst:\n",
    "        if first == 'Reviews':\n",
    "            if second == 'Rating':\n",
    "                return order('Reviews', 'Rating', 'Price Level')\n",
    "            elif second == 'Price Level':\n",
    "                return order('Reviews', 'Price Level', 'Rating')\n",
    "        elif first == 'Rating':\n",
    "            if second == 'Reviews':\n",
    "                return order('Rating', 'Reviews', 'Price Level')\n",
    "            elif second == 'Price Level':\n",
    "                return order('Rating', 'Price Level', 'Reviews')\n",
    "        elif first == 'Price Level':\n",
    "            if second == 'Reviews':\n",
    "                return order('Price Level', 'Reviews', 'Rating')\n",
    "            elif second == 'Rating':\n",
    "                return order('Price Level', 'Rating', 'Reviews')\n",
    "            \n",
    "# first: 第一順位選擇的指標 ('Reviews' or 'Rating' or 'Price Level')\n",
    "first = input()\n",
    "# first: 第二順位選擇的指標 ('Reviews' or 'Rating' or 'Price Level')\n",
    "second = input()\n",
    "# first: 第三順位選擇的指標 ('Reviews' or 'Rating' or 'Price Level')\n",
    "third = input()\n",
    "\n",
    "# 輸出值會依據使用者選擇的指標順序對這些地點做排序，輸出排好的地點裡面一樣有地點資訊(但不包含place ID)\n",
    "# 前端要呈現的內容(FE_subset_keys: frontend subset keys) [ 給負責前端的人的資訊: FE_results (type:dicts inside list)]\n",
    "FE_subset_keys = ['Name', 'opening_status', 'Reviews', 'Rating', 'Price Level', 'Five-star Review']\n",
    "FE_results = [{key: item[key] for key in FE_subset_keys} for item in output_by_choice(first, second, third)]\n",
    "print(FE_results)\n"
   ]
  },
  {
   "cell_type": "code",
   "execution_count": 14,
   "id": "e22ffe2e",
   "metadata": {},
   "outputs": [
    {
     "name": "stdout",
     "output_type": "stream",
     "text": [
      "['ChIJD12ae_KrQjQRLlnZx0yg8mg', 'ChIJObxVCIapQjQRJtRS36iiCpw', 'ChIJT3Jp6dSpQjQRih35iMUOttc', 'ChIJj_hw4oapQjQRqzf5Vytr4-Q']\n"
     ]
    }
   ],
   "source": [
    "# 排序好的 place ID list [ 給負責地圖的人的資訊: sorted_placeid_lst (type: list) ] \n",
    "map_subset_key = ['Place ID']\n",
    "sorted_placeid_dict = [{key: item[key] for key in map_subset_key} for item in output_by_choice(first, second, third)]\n",
    "sorted_placeid_lst = [p['Place ID'] for p in sorted_placeid_dict]\n",
    "print(sorted_placeid_lst)"
   ]
  },
  {
   "cell_type": "code",
   "execution_count": 23,
   "id": "ee796942",
   "metadata": {},
   "outputs": [
    {
     "name": "stdout",
     "output_type": "stream",
     "text": [
      "[{'Name': '永和豆漿 - YongHe Soy Milk - HePing', 'opening_status': 'open now', 'Reviews': 153, 'Rating': 3.4, 'Price Level': 1.0, 'Five-star Review': \"Great place (and good value) for a evening or midnight snack, breakfast, or anytime in-between!  The selection is not vast, but they are awesome for what they do serve.  You can dine-in or have take-out.  But be aware, they only have about 4 (four) tables.  (They have since the beginning of 2020 partnered with the local delivery services and have paired down the menu somewhat... no more sandwiches, oil-sticks or crispy sesame buns )\\n\\nI love eating the green onion pancakes with an egg or two.  They have oil-sticks (you-tiao) with the sesame buns in the morning.\\n\\nThey also specialize in soy milk (all types, salty, sweet, sugarless, cold, hot, sweet, salty, etc).  Other drinks include rice milk, milk tea, black tea, and an interesting soy-rice milk combo.\\n\\nFor a midnight snack, I've ordered their egg crepes, green onion pancakes, chicken nuggets, steamed dumplings (xiao-long-bao), and all kinds of eggs (over easy, scrambled, etc).  They used to make all kinds of sandwiches before, but stopped recently.  They can customize your pancakes, crepes, rice clubs, or pancake wraps with all kinds of ingredients, such as pork sung (floss), corn, tuna, bacon, (American?) cheese, green onions, etc.\\n\\nSometimes, you may have to wipe down your own tables if they're not clean enough for you.  But that's to be expected with a lot of these mom & pop places that are really inexpensive.\\n\\nBe aware, its a cash-only place; and actual hours are different from what's posted on the wall.  And if it's really important, call ahead to ensure that they're open before going in.  Like most small businesses, they're always open (as posted) unless they have some personal business to attend to.\\n\\nHours may be different from what is posted on the wall for some unknown reason.\\n\\n8pm until 11am (the next day) - 7-days a week\\nOnce in a while, they may be closed for personal business.\\n\\n2020-02-29 note:  Recently, it's kind of interesting to see this place crawling with delivery riders coming and going for the delivery orders all night long!\"}, {'Name': 'Hong Ya Hamburger', 'opening_status': 'open now', 'Reviews': 139, 'Rating': 4.4, 'Price Level': 1.0, 'Five-star Review': 'My favorite Taiwanese breakfast store!\\nThe attitude of the owners are very warm, the food is delicious with lots of choices.\\nThe only flaw is that they don’t open during weekends :( (have to go to some lousy breakfast shops nearby instead).\\n\\nHope they will consider to open during weekend!'}, {'Name': '男子漢早餐店（師大泰順店）Realhomie Breakfast', 'opening_status': 'open now', 'Reviews': 313, 'Rating': 4.1, 'Price Level': nan, 'Five-star Review': 'For breakfast option it is slightly too expensive.\\nBut unlike 99% of breafast shops in Taiwan, interior is very neat and comfortable. Also want give credit to the staff.'}, {'Name': 'Chen Ji Yingyang Breakfast Restaurant', 'opening_status': 'open now', 'Reviews': 34, 'Rating': 4.1, 'Price Level': nan, 'Five-star Review': 'very friendly staff, food was truly 又便宜又好吃 (cheap and good). service was fast and everything was freshly made. Absolutely recommend'}]\n"
     ]
    }
   ],
   "source": [
    "# 如果選擇 open now\n",
    "# 只顯示現在有開的店家 (可以做成一個button,如果點了button可以多跑這個把現在沒開的篩掉)\n",
    "# 如果沒有選擇 open now 就不用跑這段\n",
    "def open_result(lst):\n",
    "    return [x for x in lst if x['opening_status'] != 'closed']\n",
    "open_FE_results = open_result(FE_results)\n",
    "print(open_FE_results)"
   ]
  },
  {
   "cell_type": "code",
   "execution_count": 20,
   "id": "5c8886bd",
   "metadata": {},
   "outputs": [
    {
     "data": {
      "text/plain": [
       "[{'Place ID': 'ChIJD12ae_KrQjQRLlnZx0yg8mg'},\n",
       " {'Place ID': 'ChIJObxVCIapQjQRJtRS36iiCpw'},\n",
       " {'Place ID': 'ChIJT3Jp6dSpQjQRih35iMUOttc'},\n",
       " {'Place ID': 'ChIJj_hw4oapQjQRqzf5Vytr4-Q'}]"
      ]
     },
     "execution_count": 20,
     "metadata": {},
     "output_type": "execute_result"
    }
   ],
   "source": [
    "sorted_placeid_dict"
   ]
  },
  {
   "cell_type": "code",
   "execution_count": 25,
   "id": "68f1cdd6",
   "metadata": {},
   "outputs": [
    {
     "name": "stdout",
     "output_type": "stream",
     "text": [
      "['ChIJD12ae_KrQjQRLlnZx0yg8mg', 'ChIJObxVCIapQjQRJtRS36iiCpw', 'ChIJT3Jp6dSpQjQRih35iMUOttc', 'ChIJj_hw4oapQjQRqzf5Vytr4-Q']\n"
     ]
    }
   ],
   "source": [
    "# 如果選擇 open now\n",
    "# 只顯示現在有開的店家的placeid (可以做成一個button,如果點了button可以多跑這個把現在沒開的篩掉)\n",
    "# 如果沒有選擇 open now 就不用跑這段\n",
    "open_sorted_placeid = [p['Place ID'] for p in sorted_placeid_dict]\n",
    "print(open_sorted_placeid)"
   ]
  },
  {
   "cell_type": "code",
   "execution_count": 17,
   "id": "b99e33a1",
   "metadata": {},
   "outputs": [
    {
     "name": "stdout",
     "output_type": "stream",
     "text": [
      "3\n",
      "{'Name': '男子漢早餐店（師大泰順店）Realhomie Breakfast', 'opening_status': 'open now', 'Reviews': 313, 'Rating': 4.1, 'Price Level': nan, 'Five-star Review': 'For breakfast option it is slightly too expensive.\\nBut unlike 99% of breafast shops in Taiwan, interior is very neat and comfortable. Also want give credit to the staff.'}\n",
      "ChIJT3Jp6dSpQjQRih35iMUOttc\n"
     ]
    }
   ],
   "source": [
    "# 如果沒有選擇 open now 就不用跑這段\n",
    "\n",
    "# 列出使用者最終選擇的 destinaion\n",
    "# 假設choice以排序後選擇的排名表示\n",
    "choice = int(input()) - 1  # eg.選結果中的第一名input視為1 則 choice == 0 在list中的第一個結果\n",
    "def choosed_destination(choice):\n",
    "    return FE_results[choice]\n",
    "def choosed_destination_id(choice):\n",
    "    return sorted_placeid_lst[choice]\n",
    "# 列出使用者最終選擇的 destinaion 的資訊 for frontend\n",
    "print(choosed_destination(choice))\n",
    "# 列出使用者最終選擇的 destinaion 的資訊 for map use\n",
    "print(choosed_destination_id(choice))"
   ]
  },
  {
   "cell_type": "code",
   "execution_count": 26,
   "id": "6a839c41",
   "metadata": {},
   "outputs": [
    {
     "name": "stdout",
     "output_type": "stream",
     "text": [
      "2\n",
      "{'Name': 'Hong Ya Hamburger', 'opening_status': 'open now', 'Reviews': 139, 'Rating': 4.4, 'Price Level': 1.0, 'Five-star Review': 'My favorite Taiwanese breakfast store!\\nThe attitude of the owners are very warm, the food is delicious with lots of choices.\\nThe only flaw is that they don’t open during weekends :( (have to go to some lousy breakfast shops nearby instead).\\n\\nHope they will consider to open during weekend!'}\n",
      "ChIJObxVCIapQjQRJtRS36iiCpw\n"
     ]
    }
   ],
   "source": [
    "# 如果選擇 open now\n",
    "\n",
    "choice = int(input()) - 1  # eg.選結果中的第一名input視為1 則 choice == 0 在list中的第一個結果\n",
    "def choosed_destination(choice):\n",
    "    return open_FE_results[choice]\n",
    "def choosed_destination_id(choice):\n",
    "    return open_sorted_placeid[choice]\n",
    "# 列出使用者最終選擇的 destinaion 的資訊 for frontend\n",
    "print(choosed_destination(choice))\n",
    "# 列出使用者最終選擇的 destinaion 的資訊 for map use\n",
    "print(choosed_destination_id(choice))"
   ]
  }
 ],
 "metadata": {
  "kernelspec": {
   "display_name": "Python 3 (ipykernel)",
   "language": "python",
   "name": "python3"
  },
  "language_info": {
   "codemirror_mode": {
    "name": "ipython",
    "version": 3
   },
   "file_extension": ".py",
   "mimetype": "text/x-python",
   "name": "python",
   "nbconvert_exporter": "python",
   "pygments_lexer": "ipython3",
   "version": "3.8.11"
  }
 },
 "nbformat": 4,
 "nbformat_minor": 5
}
