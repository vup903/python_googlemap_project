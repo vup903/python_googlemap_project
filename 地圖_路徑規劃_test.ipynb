{
 "cells": [
  {
   "cell_type": "code",
   "execution_count": 1,
   "id": "20ce94f7",
   "metadata": {},
   "outputs": [],
   "source": [
    "import googlemaps\n",
    "import folium"
   ]
  },
  {
   "cell_type": "code",
   "execution_count": 2,
   "id": "4173979f",
   "metadata": {},
   "outputs": [],
   "source": [
    "API_KEY = 'Your_API_KEY'"
   ]
  },
  {
   "cell_type": "code",
   "execution_count": 3,
   "id": "64eee2da",
   "metadata": {},
   "outputs": [],
   "source": [
    "gmaps = googlemaps.Client(key=API_KEY)"
   ]
  },
  {
   "cell_type": "code",
   "execution_count": 4,
   "id": "043c7d80",
   "metadata": {},
   "outputs": [],
   "source": [
    "# input\n",
    "place_id_origin = 'ChIJIUkURkarQjQRKCMEKNgzU44'\n",
    "place_id_dest = 'ChIJMfWq1serQjQRo31IwqzmU9w'\n",
    "mode_select = 'walking'"
   ]
  },
  {
   "cell_type": "code",
   "execution_count": 5,
   "id": "c028356d",
   "metadata": {},
   "outputs": [],
   "source": [
    "# test_id\n",
    "# 起點：'ChIJIUkURkarQjQRKCMEKNgzU44'\n",
    "# 目的地：'ChIJMfWq1serQjQRo31IwqzmU9w'\n",
    "# 交通方式：'walking'"
   ]
  },
  {
   "cell_type": "code",
   "execution_count": 6,
   "id": "756939d7",
   "metadata": {},
   "outputs": [],
   "source": [
    "# 把地點ID轉換為經緯度\n",
    "place_details_origin = gmaps.place(place_id=place_id_origin, fields=['geometry'])\n",
    "place_details_dest = gmaps.place(place_id=place_id_dest, fields=['geometry'])\n",
    "\n",
    "location_origin = place_details_origin['result']['geometry']['location']\n",
    "latitude_origin = location_origin['lat']\n",
    "longitude_origin = location_origin['lng']\n",
    "\n",
    "location_dest = place_details_dest['result']['geometry']['location']\n",
    "latitude_dest = location_dest['lat']\n",
    "longitude_dest = location_dest['lng']"
   ]
  },
  {
   "cell_type": "code",
   "execution_count": 7,
   "id": "9c450754",
   "metadata": {},
   "outputs": [],
   "source": [
    "# 獲取路徑\n",
    "directions_result = gmaps.directions((latitude_origin, longitude_origin), (latitude_dest, longitude_dest), mode=mode_select)\n",
    "# 獲取路徑時長\n",
    "total_duration = directions_result[0]['legs'][0]['duration']['text']"
   ]
  },
  {
   "cell_type": "code",
   "execution_count": 8,
   "id": "d742e062",
   "metadata": {},
   "outputs": [
    {
     "data": {
      "text/plain": [
       "<folium.vector_layers.PolyLine at 0x1287e1850>"
      ]
     },
     "execution_count": 8,
     "metadata": {},
     "output_type": "execute_result"
    }
   ],
   "source": [
    "# 加入地圖\n",
    "map = folium.Map(location=[latitude_origin, longitude_origin], zoom_start=15)\n",
    "polyline = directions_result[0]['overview_polyline']['points']\n",
    "decoded_polyline = googlemaps.convert.decode_polyline(polyline)\n",
    "coordinates = [(point['lat'], point['lng']) for point in decoded_polyline]\n",
    "\n",
    "# 加入總時長的標記\n",
    "icon = folium.Icon(color='blue', icon='hourglass', prefix='fa')\n",
    "folium.Marker(location=coordinates[int(len(coordinates) / 2)], popup=f'總時長：{total_duration}', icon=icon).add_to(map)\n",
    "\n",
    "# 加入起點和目的地的標記\n",
    "for i, coordinate in enumerate(coordinates):\n",
    "    if i == 0:\n",
    "        marker = folium.Marker(location=coordinate, popup='起點', icon=folium.Icon(color='green'))\n",
    "    elif i == len(coordinates) - 1:\n",
    "        marker = folium.Marker(location=coordinate, popup='目的地', icon=folium.Icon(color='red'))\n",
    "    marker.add_to(map)\n",
    "\n",
    "polyline = folium.PolyLine(locations=coordinates, color='deepskyblue', weight=4)\n",
    "polyline.add_to(map)"
   ]
  },
  {
   "cell_type": "code",
   "execution_count": 9,
   "id": "1b5e5681",
   "metadata": {},
   "outputs": [
    {
     "data": {
      "text/html": [
       "<div style=\"width:100%;\"><div style=\"position:relative;width:100%;height:0;padding-bottom:60%;\"><span style=\"color:#565656\">Make this Notebook Trusted to load map: File -> Trust Notebook</span><iframe srcdoc=\"&lt;!DOCTYPE html&gt;\n",
       "&lt;html&gt;\n",
       "&lt;head&gt;\n",
       "    \n",
       "    &lt;meta http-equiv=&quot;content-type&quot; content=&quot;text/html; charset=UTF-8&quot; /&gt;\n",
       "    \n",
       "        &lt;script&gt;\n",
       "            L_NO_TOUCH = false;\n",
       "            L_DISABLE_3D = false;\n",
       "        &lt;/script&gt;\n",
       "    \n",
       "    &lt;style&gt;html, body {width: 100%;height: 100%;margin: 0;padding: 0;}&lt;/style&gt;\n",
       "    &lt;style&gt;#map {position:absolute;top:0;bottom:0;right:0;left:0;}&lt;/style&gt;\n",
       "    &lt;script src=&quot;https://cdn.jsdelivr.net/npm/leaflet@1.9.3/dist/leaflet.js&quot;&gt;&lt;/script&gt;\n",
       "    &lt;script src=&quot;https://code.jquery.com/jquery-1.12.4.min.js&quot;&gt;&lt;/script&gt;\n",
       "    &lt;script src=&quot;https://cdn.jsdelivr.net/npm/bootstrap@5.2.2/dist/js/bootstrap.bundle.min.js&quot;&gt;&lt;/script&gt;\n",
       "    &lt;script src=&quot;https://cdnjs.cloudflare.com/ajax/libs/Leaflet.awesome-markers/2.0.2/leaflet.awesome-markers.js&quot;&gt;&lt;/script&gt;\n",
       "    &lt;link rel=&quot;stylesheet&quot; href=&quot;https://cdn.jsdelivr.net/npm/leaflet@1.9.3/dist/leaflet.css&quot;/&gt;\n",
       "    &lt;link rel=&quot;stylesheet&quot; href=&quot;https://cdn.jsdelivr.net/npm/bootstrap@5.2.2/dist/css/bootstrap.min.css&quot;/&gt;\n",
       "    &lt;link rel=&quot;stylesheet&quot; href=&quot;https://netdna.bootstrapcdn.com/bootstrap/3.0.0/css/bootstrap.min.css&quot;/&gt;\n",
       "    &lt;link rel=&quot;stylesheet&quot; href=&quot;https://cdn.jsdelivr.net/npm/@fortawesome/fontawesome-free@6.2.0/css/all.min.css&quot;/&gt;\n",
       "    &lt;link rel=&quot;stylesheet&quot; href=&quot;https://cdnjs.cloudflare.com/ajax/libs/Leaflet.awesome-markers/2.0.2/leaflet.awesome-markers.css&quot;/&gt;\n",
       "    &lt;link rel=&quot;stylesheet&quot; href=&quot;https://cdn.jsdelivr.net/gh/python-visualization/folium/folium/templates/leaflet.awesome.rotate.min.css&quot;/&gt;\n",
       "    \n",
       "            &lt;meta name=&quot;viewport&quot; content=&quot;width=device-width,\n",
       "                initial-scale=1.0, maximum-scale=1.0, user-scalable=no&quot; /&gt;\n",
       "            &lt;style&gt;\n",
       "                #map_12ff21cc09d793894570e8b7582c90d6 {\n",
       "                    position: relative;\n",
       "                    width: 100.0%;\n",
       "                    height: 100.0%;\n",
       "                    left: 0.0%;\n",
       "                    top: 0.0%;\n",
       "                }\n",
       "                .leaflet-container { font-size: 1rem; }\n",
       "            &lt;/style&gt;\n",
       "        \n",
       "&lt;/head&gt;\n",
       "&lt;body&gt;\n",
       "    \n",
       "    \n",
       "            &lt;div class=&quot;folium-map&quot; id=&quot;map_12ff21cc09d793894570e8b7582c90d6&quot; &gt;&lt;/div&gt;\n",
       "        \n",
       "&lt;/body&gt;\n",
       "&lt;script&gt;\n",
       "    \n",
       "    \n",
       "            var map_12ff21cc09d793894570e8b7582c90d6 = L.map(\n",
       "                &quot;map_12ff21cc09d793894570e8b7582c90d6&quot;,\n",
       "                {\n",
       "                    center: [25.0316723, 121.5592587],\n",
       "                    crs: L.CRS.EPSG3857,\n",
       "                    zoom: 15,\n",
       "                    zoomControl: true,\n",
       "                    preferCanvas: false,\n",
       "                }\n",
       "            );\n",
       "\n",
       "            \n",
       "\n",
       "        \n",
       "    \n",
       "            var tile_layer_5eaadb295fe8d0fd2c34fa7afdc28209 = L.tileLayer(\n",
       "                &quot;https://{s}.tile.openstreetmap.org/{z}/{x}/{y}.png&quot;,\n",
       "                {&quot;attribution&quot;: &quot;Data by \\u0026copy; \\u003ca target=\\&quot;_blank\\&quot; href=\\&quot;http://openstreetmap.org\\&quot;\\u003eOpenStreetMap\\u003c/a\\u003e, under \\u003ca target=\\&quot;_blank\\&quot; href=\\&quot;http://www.openstreetmap.org/copyright\\&quot;\\u003eODbL\\u003c/a\\u003e.&quot;, &quot;detectRetina&quot;: false, &quot;maxNativeZoom&quot;: 18, &quot;maxZoom&quot;: 18, &quot;minZoom&quot;: 0, &quot;noWrap&quot;: false, &quot;opacity&quot;: 1, &quot;subdomains&quot;: &quot;abc&quot;, &quot;tms&quot;: false}\n",
       "            ).addTo(map_12ff21cc09d793894570e8b7582c90d6);\n",
       "        \n",
       "    \n",
       "            var marker_f48b0194403c26930a2219b0dfa2f104 = L.marker(\n",
       "                [25.032770000000003, 121.5579],\n",
       "                {}\n",
       "            ).addTo(map_12ff21cc09d793894570e8b7582c90d6);\n",
       "        \n",
       "    \n",
       "            var icon_5ccf1ae0e828bd4895c1e2265f91d493 = L.AwesomeMarkers.icon(\n",
       "                {&quot;extraClasses&quot;: &quot;fa-rotate-0&quot;, &quot;icon&quot;: &quot;hourglass&quot;, &quot;iconColor&quot;: &quot;white&quot;, &quot;markerColor&quot;: &quot;blue&quot;, &quot;prefix&quot;: &quot;fa&quot;}\n",
       "            );\n",
       "            marker_f48b0194403c26930a2219b0dfa2f104.setIcon(icon_5ccf1ae0e828bd4895c1e2265f91d493);\n",
       "        \n",
       "    \n",
       "        var popup_6891c82d25d0b36af2d07c50fd1b195b = L.popup({&quot;maxWidth&quot;: &quot;100%&quot;});\n",
       "\n",
       "        \n",
       "            \n",
       "                var html_160be3f9ce6744c9ce73b6d2fd4516a9 = $(`&lt;div id=&quot;html_160be3f9ce6744c9ce73b6d2fd4516a9&quot; style=&quot;width: 100.0%; height: 100.0%;&quot;&gt;總時長：14 mins&lt;/div&gt;`)[0];\n",
       "                popup_6891c82d25d0b36af2d07c50fd1b195b.setContent(html_160be3f9ce6744c9ce73b6d2fd4516a9);\n",
       "            \n",
       "        \n",
       "\n",
       "        marker_f48b0194403c26930a2219b0dfa2f104.bindPopup(popup_6891c82d25d0b36af2d07c50fd1b195b)\n",
       "        ;\n",
       "\n",
       "        \n",
       "    \n",
       "    \n",
       "            var marker_c4bd23dde69df86c7ccba8cb1a9f2a78 = L.marker(\n",
       "                [25.031640000000003, 121.55932000000001],\n",
       "                {}\n",
       "            ).addTo(map_12ff21cc09d793894570e8b7582c90d6);\n",
       "        \n",
       "    \n",
       "            var icon_d328234770789680729c4654f4247585 = L.AwesomeMarkers.icon(\n",
       "                {&quot;extraClasses&quot;: &quot;fa-rotate-0&quot;, &quot;icon&quot;: &quot;info-sign&quot;, &quot;iconColor&quot;: &quot;white&quot;, &quot;markerColor&quot;: &quot;green&quot;, &quot;prefix&quot;: &quot;glyphicon&quot;}\n",
       "            );\n",
       "            marker_c4bd23dde69df86c7ccba8cb1a9f2a78.setIcon(icon_d328234770789680729c4654f4247585);\n",
       "        \n",
       "    \n",
       "        var popup_31b681fad23ac73f4038c942920b3e68 = L.popup({&quot;maxWidth&quot;: &quot;100%&quot;});\n",
       "\n",
       "        \n",
       "            \n",
       "                var html_c14ec333efddf14014c54722a5f4e00e = $(`&lt;div id=&quot;html_c14ec333efddf14014c54722a5f4e00e&quot; style=&quot;width: 100.0%; height: 100.0%;&quot;&gt;起點&lt;/div&gt;`)[0];\n",
       "                popup_31b681fad23ac73f4038c942920b3e68.setContent(html_c14ec333efddf14014c54722a5f4e00e);\n",
       "            \n",
       "        \n",
       "\n",
       "        marker_c4bd23dde69df86c7ccba8cb1a9f2a78.bindPopup(popup_31b681fad23ac73f4038c942920b3e68)\n",
       "        ;\n",
       "\n",
       "        \n",
       "    \n",
       "    \n",
       "            var marker_d92bf07708d2831089dc935d5e73a818 = L.marker(\n",
       "                [25.039040000000004, 121.5575],\n",
       "                {}\n",
       "            ).addTo(map_12ff21cc09d793894570e8b7582c90d6);\n",
       "        \n",
       "    \n",
       "            var icon_3e5c0892a2be639205c1b6fa30e43346 = L.AwesomeMarkers.icon(\n",
       "                {&quot;extraClasses&quot;: &quot;fa-rotate-0&quot;, &quot;icon&quot;: &quot;info-sign&quot;, &quot;iconColor&quot;: &quot;white&quot;, &quot;markerColor&quot;: &quot;red&quot;, &quot;prefix&quot;: &quot;glyphicon&quot;}\n",
       "            );\n",
       "            marker_d92bf07708d2831089dc935d5e73a818.setIcon(icon_3e5c0892a2be639205c1b6fa30e43346);\n",
       "        \n",
       "    \n",
       "        var popup_417d0c8cf87f8937ac1f235c0f9c80dd = L.popup({&quot;maxWidth&quot;: &quot;100%&quot;});\n",
       "\n",
       "        \n",
       "            \n",
       "                var html_13256f540a94ca12ea52b1a78e8fce84 = $(`&lt;div id=&quot;html_13256f540a94ca12ea52b1a78e8fce84&quot; style=&quot;width: 100.0%; height: 100.0%;&quot;&gt;目的地&lt;/div&gt;`)[0];\n",
       "                popup_417d0c8cf87f8937ac1f235c0f9c80dd.setContent(html_13256f540a94ca12ea52b1a78e8fce84);\n",
       "            \n",
       "        \n",
       "\n",
       "        marker_d92bf07708d2831089dc935d5e73a818.bindPopup(popup_417d0c8cf87f8937ac1f235c0f9c80dd)\n",
       "        ;\n",
       "\n",
       "        \n",
       "    \n",
       "    \n",
       "            var poly_line_19e248a19b4d84814fdff798d9129e17 = L.polyline(\n",
       "                [[25.031640000000003, 121.55932000000001], [25.031720000000004, 121.55937000000002], [25.03188, 121.55915000000002], [25.031920000000003, 121.55907], [25.031940000000002, 121.55896000000001], [25.032000000000004, 121.55881000000001], [25.03216, 121.55861000000002], [25.032140000000002, 121.55858], [25.032190000000003, 121.55853], [25.03233, 121.5584], [25.032690000000002, 121.55798000000001], [25.032770000000003, 121.5579], [25.03281, 121.55789000000001], [25.032940000000004, 121.55789000000001], [25.032950000000003, 121.55757000000001], [25.032940000000004, 121.55738000000001], [25.033060000000003, 121.55738000000001], [25.033340000000003, 121.55739000000001], [25.034630000000003, 121.55739000000001], [25.035420000000002, 121.55739000000001], [25.03649, 121.55744000000001], [25.03789, 121.55747000000001], [25.039040000000004, 121.5575]],\n",
       "                {&quot;bubblingMouseEvents&quot;: true, &quot;color&quot;: &quot;deepskyblue&quot;, &quot;dashArray&quot;: null, &quot;dashOffset&quot;: null, &quot;fill&quot;: false, &quot;fillColor&quot;: &quot;deepskyblue&quot;, &quot;fillOpacity&quot;: 0.2, &quot;fillRule&quot;: &quot;evenodd&quot;, &quot;lineCap&quot;: &quot;round&quot;, &quot;lineJoin&quot;: &quot;round&quot;, &quot;noClip&quot;: false, &quot;opacity&quot;: 1.0, &quot;smoothFactor&quot;: 1.0, &quot;stroke&quot;: true, &quot;weight&quot;: 4}\n",
       "            ).addTo(map_12ff21cc09d793894570e8b7582c90d6);\n",
       "        \n",
       "&lt;/script&gt;\n",
       "&lt;/html&gt;\" style=\"position:absolute;width:100%;height:100%;left:0;top:0;border:none !important;\" allowfullscreen webkitallowfullscreen mozallowfullscreen></iframe></div></div>"
      ],
      "text/plain": [
       "<folium.folium.Map at 0x1284e9e50>"
      ]
     },
     "execution_count": 9,
     "metadata": {},
     "output_type": "execute_result"
    }
   ],
   "source": [
    "# 顯示地圖\n",
    "map"
   ]
  },
  {
   "cell_type": "code",
   "execution_count": null,
   "id": "06de3861",
   "metadata": {},
   "outputs": [],
   "source": []
  }
 ],
 "metadata": {
  "kernelspec": {
   "display_name": "Python 3 (ipykernel)",
   "language": "python",
   "name": "python3"
  },
  "language_info": {
   "codemirror_mode": {
    "name": "ipython",
    "version": 3
   },
   "file_extension": ".py",
   "mimetype": "text/x-python",
   "name": "python",
   "nbconvert_exporter": "python",
   "pygments_lexer": "ipython3",
   "version": "3.11.3"
  }
 },
 "nbformat": 4,
 "nbformat_minor": 5
}
